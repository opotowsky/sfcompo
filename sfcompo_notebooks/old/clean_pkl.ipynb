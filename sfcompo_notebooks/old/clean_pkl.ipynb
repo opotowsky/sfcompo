{
 "cells": [
  {
   "cell_type": "code",
   "execution_count": 1,
   "metadata": {},
   "outputs": [],
   "source": [
    "import pandas as pd\n",
    "import numpy as np"
   ]
  },
  {
   "cell_type": "code",
   "execution_count": 3,
   "metadata": {},
   "outputs": [],
   "source": [
    "dbfile = '../clean/sfcompoDB_clean.csv'\n",
    "fulldb = pd.read_csv(dbfile)"
   ]
  },
  {
   "cell_type": "markdown",
   "metadata": {},
   "source": [
    "### Steal some functions/definitions from K. Dayman's sfcompo.py and refactor for my specific needs"
   ]
  },
  {
   "cell_type": "code",
   "execution_count": 91,
   "metadata": {},
   "outputs": [],
   "source": [
    "# Conversion Factors\n",
    "cF = {# Burnup, all to MWd/tUi\n",
    "      'GW*d/tHMi': {'MW*d/tUi': 1000.0},\n",
    "      'GW*d/tUi': {'MW*d/tUi': 1000.0},\n",
    "      'MW*d/kgUi': {'MW*d/tUi': 1000.0},\n",
    "      'MW*d/tHMi': {'MW*d/tUi': 1.0},\n",
    "      'MW*d/tUi': {'MW*d/kgUi': 0.001, 'MW*d/tUi': 1.0},\n",
    "      'MW*h/kgUi': {'MW*d/tUi': 41.66666667},\n",
    "      # Isotopic Concentraion, to g/gUi or \n",
    "      'g/gFueli', \n",
    "      'mg/gFueli', \n",
    "      'mol/gFueli', \n",
    "      'mg/gUi',\n",
    "      'g/gUi', \n",
    "      'μg/gUi',\n",
    "      'g/gHMi',\n",
    "      'mg/gHMi',\n",
    "      'mg/kgUi',\n",
    "      'g/kgUi',   \n",
    "      'mol/molHMi', \n",
    "      'mg/tUi', \n",
    "      'kg/tUi', \n",
    "      'g/tUi',\n",
    "      'g/tHMi', \n",
    "      'mol/molU238i',\n",
    "      'g/gU238i',  \n",
    "      'mol/molUi', \n",
    "      'g/gUf', \n",
    "      'mg/gUf', \n",
    "      'μg/gUf',  \n",
    "      'kg/kgUf',    \n",
    "      'mol/molUf', \n",
    "      'g/gU238f', \n",
    "      'mg/gU238f',\n",
    "      'mol/molU238f', \n",
    "      'g/gPuf',\n",
    "      'kg/kgPuf', \n",
    "      'mol/molPuf',\n",
    "      # All activities to Ci/gUi or Ci/fUf\n",
    "      'Bq/gUi': {'Ci/gUi': 2.7e-11}, \n",
    "      'Bq/kgUi': {'Ci/gUi': 2.7e-14},\n",
    "      'Bq/gUf': {'Ci/gUf': 2.7e-11}, \n",
    "      'Ci/gFueli': {'Ci/gUi': 1.0}, \n",
    "      'Ci/gHMi': {'Ci/gUi': 1.0},\n",
    "      # Misc\n",
    "      'Pa': {'bar': 1e-05, 'psi': 0.000145038},\n",
    "      'bar': {'Pa': 100000.0, 'psi': 14.5038},\n",
    "      'cm': {'in': 0.393701, 'm': 0.01, 'mm': 10.0},\n",
    "      'g': {'kg': 0.001, 'lb': 0.00220462, 'mg': 1000.0},\n",
    "      'in': {'cm': 2.54, 'm': 0.0254, 'mm': 25.4},\n",
    "      'kg': {'g': 1000.0, 'lb': 2.20462, 'mg': 1000000.0},\n",
    "      'lb': {'g': 453.592, 'kg': 0.453592, 'mg': 453592.0},\n",
    "      'm': {'cm': 100.0, 'in': 39.3701, 'mm': 1000.0},\n",
    "      'mg': {'g': 0.001, 'kg': 1e-06, 'lb': 2.20462e-06},\n",
    "      'mm': {'cm': 0.1, 'in': 0.0393701, 'm': 0.001},\n",
    "      'psi': {'Pa': 689476.0, 'bar': 0.0689476}\n",
    "      }"
   ]
  },
  {
   "cell_type": "code",
   "execution_count": 3,
   "metadata": {},
   "outputs": [],
   "source": [
    "def changeUnits_(row, rv, ru, u, cF):\n",
    "    '''\n",
    "    Internal function used by changeUnits under Pandas.apply()\n",
    "    '''\n",
    "    cur_unit = u[int(row['idx'])]\n",
    "    cf = getCF(cur_unit, ru, cF)\n",
    "    row[rv] = row[rv] * cf\n",
    "    return row\n",
    "\n",
    "\n",
    "def changeUnits(dF, requestedValue, requestedUnit, U, cF):\n",
    "    '''\n",
    "    Given an SFCompo dF, the requestedValue (column) is extracted, and all\n",
    "    values in that column are converted to the requestedUnit before returning.\n",
    "    ConversionFactor table is queried and user is prompted as necessary.\n",
    "    '''\n",
    "    idx_col = dF.columns.get_loc(requestedValue)\n",
    "    u = U[:, idx_col]\n",
    "    dF['idx'] = np.arange(dF.shape[0])\n",
    "    X = dF[['idx', requestedValue]].copy()\n",
    "    X = X.apply(lambda x: changeUnits_(x, requestedValue, requestedUnit, u, cF), axis=1)\n",
    "    X = X.drop('idx', axis=1)\n",
    "    return X"
   ]
  },
  {
   "cell_type": "code",
   "execution_count": 4,
   "metadata": {},
   "outputs": [],
   "source": [
    "def getUnit(s):\n",
    "    '''\n",
    "    Given a string, finds the numeric value and remainder, presumably a unit\n",
    "    indication. Returns a float and a string.\n",
    "    '''\n",
    "    numeric = '0123456789-.'\n",
    "    for i,c in enumerate(s):\n",
    "        if c not in numeric:\n",
    "            break\n",
    "    number = s[:i]\n",
    "    unit = s[i:].strip()\n",
    "    return number, unit\n",
    "\n",
    "def extractUnits(df, col):\n",
    "    '''\n",
    "    Iterates over column in a dataframe, extracting values and units.\n",
    "    Returns a dataframe with two separated columns of values and units.\n",
    "    '''\n",
    "    units = []\n",
    "    def f(x):\n",
    "        value, unit = getUnit(x)\n",
    "        units.append(unit)\n",
    "        return value\n",
    "    \n",
    "    df[col] = df[col].apply(lambda x: f(x))\n",
    "    df[col+'Units'] = units\n",
    "    return df"
   ]
  },
  {
   "cell_type": "code",
   "execution_count": 5,
   "metadata": {},
   "outputs": [],
   "source": [
    "fulldb.drop(columns=['Sample identifier', 'Z', 'A', 'I'], inplace=True)"
   ]
  },
  {
   "cell_type": "code",
   "execution_count": 6,
   "metadata": {},
   "outputs": [],
   "source": [
    "cols = {'Reactor name' : 'ReactorName', \n",
    "        'Reactor type' : 'ReactorType',\n",
    "        'Estimated burnup' : 'Burnup', \n",
    "        'e. U235' : 'Enrichment',\n",
    "        'SFCompo sample ref' : 'SampleRef',\n",
    "        'Measurement type' : 'Measurement', \n",
    "        'Item' : 'Isotope',\n",
    "        'Value' : 'Value', \n",
    "        'Unit' : 'Unit',\n",
    "        'Concentration' : 'Concentration', \n",
    "        'Concentration Unit' : 'ConcentrationUnit',\n",
    "        'Sigma' : 'Sigma', \n",
    "        'Uncertainty' : 'Uncertainty'\n",
    "        }"
   ]
  },
  {
   "cell_type": "code",
   "execution_count": 7,
   "metadata": {},
   "outputs": [],
   "source": [
    "fulldb.rename(columns=cols, inplace=True)\n",
    "fulldb = extractUnits(fulldb, 'Burnup')\n",
    "fulldb = extractUnits(fulldb, 'Enrichment')"
   ]
  },
  {
   "cell_type": "code",
   "execution_count": 8,
   "metadata": {},
   "outputs": [
    {
     "data": {
      "text/plain": [
       "array(['Activity', 'Isotopic Concentration', 'Mass Ratio', 'Atom Ratio',\n",
       "       'Burnup', 'Other', 'Activity Ratio', 'Depletion'], dtype=object)"
      ]
     },
     "execution_count": 8,
     "metadata": {},
     "output_type": "execute_result"
    }
   ],
   "source": [
    "fulldb.Measurement.unique()"
   ]
  },
  {
   "cell_type": "code",
   "execution_count": 14,
   "metadata": {},
   "outputs": [
    {
     "data": {
      "text/plain": [
       "array(['g/gFueli', 'mg/gFueli', 'kg/tUi', 'mol/gFueli', 'mg/gUi',\n",
       "       'mol/molUf', 'mol/molU238f', 'kg/kgUf', 'kg/kgPuf', 'mol/molPuf',\n",
       "       'g/gUi', 'g/gU238f', 'g/tUi', 'mg/gUf', 'g/tHMi', 'mol/molU238i',\n",
       "       'g/gHMi', 'mol/molUi', 'μg/gUi', 'μg/gUf', 'mg/gU238f', 'g/gU238i',\n",
       "       'g/gUf', 'mol/molHMi', 'mg/kgUi', 'mg/tUi', 'g/kgUi', 'g/gPuf',\n",
       "       'mg/gHMi'], dtype=object)"
      ]
     },
     "execution_count": 14,
     "metadata": {},
     "output_type": "execute_result"
    }
   ],
   "source": [
    "conc = fulldb.loc[fulldb['Measurement'] == 'Isotopic Concentration'].copy()\n",
    "units = conc.Unit.unique()\n",
    "units"
   ]
  },
  {
   "cell_type": "code",
   "execution_count": 22,
   "metadata": {},
   "outputs": [
    {
     "name": "stdout",
     "output_type": "stream",
     "text": [
      "       Conc Unit  Num Entries\n",
      "10         g/gUi         6928\n",
      "4         mg/gUi         1946\n",
      "11      g/gU238f         1740\n",
      "15  mol/molU238i          699\n",
      "16        g/gHMi          681\n",
      "2         kg/tUi          473\n",
      "5      mol/molUf          463\n",
      "28       mg/gHMi          376\n",
      "1      mg/gFueli          357\n",
      "19        μg/gUf          261\n",
      "18        μg/gUi          261\n",
      "14        g/tHMi          209\n",
      "26        g/kgUi          177\n",
      "9     mol/molPuf          151\n",
      "23    mol/molHMi          148\n",
      "13        mg/gUf          137\n",
      "12         g/tUi          110\n",
      "22         g/gUf           93\n",
      "0       g/gFueli           61\n",
      "8       kg/kgPuf           45\n",
      "7        kg/kgUf           36\n",
      "6   mol/molU238f           34\n",
      "20     mg/gU238f           34\n",
      "3     mol/gFueli           25\n",
      "24       mg/kgUi           17\n",
      "17     mol/molUi           13\n",
      "25        mg/tUi            6\n",
      "27        g/gPuf            6\n",
      "21      g/gU238i            1\n"
     ]
    }
   ],
   "source": [
    "entries = []\n",
    "for unit in units:\n",
    "    tmp = conc.loc[conc.Unit == unit]\n",
    "    entries.append(tmp.shape[0])\n",
    "pretty = pd.DataFrame(zip(units, entries), columns=['Conc Unit', 'Num Entries'])\n",
    "print(pretty.sort_values(by=['Num Entries'], ascending=False))"
   ]
  },
  {
   "cell_type": "code",
   "execution_count": 24,
   "metadata": {},
   "outputs": [
    {
     "data": {
      "text/plain": [
       "15488"
      ]
     },
     "execution_count": 24,
     "metadata": {},
     "output_type": "execute_result"
    }
   ],
   "source": [
    "pretty['Num Entries'].sum()"
   ]
  },
  {
   "cell_type": "code",
   "execution_count": 116,
   "metadata": {},
   "outputs": [
    {
     "data": {
      "text/plain": [
       "array(['Ci/gFueli', 'Bq/gUi', 'Bq/gUf', 'Ci/gUi', 'Ci/gUf', 'Ci/gHMi',\n",
       "       'Bq/kgUi'], dtype=object)"
      ]
     },
     "execution_count": 116,
     "metadata": {},
     "output_type": "execute_result"
    }
   ],
   "source": [
    "### Other measurement types ###\n",
    "act = fulldb.loc[fulldb['Measurement'] == 'Activity'].copy()\n",
    "#mass = fulldb.loc[fulldb['Measurement'] == 'Mass Ratio'].copy()\n",
    "#atom = fulldb.loc[fulldb['Measurement'] == 'Atom Ratio'].copy()\n",
    "act.Unit.unique()"
   ]
  },
  {
   "cell_type": "code",
   "execution_count": null,
   "metadata": {},
   "outputs": [],
   "source": []
  }
 ],
 "metadata": {
  "kernelspec": {
   "display_name": "Python 3",
   "language": "python",
   "name": "python3"
  },
  "language_info": {
   "codemirror_mode": {
    "name": "ipython",
    "version": 3
   },
   "file_extension": ".py",
   "mimetype": "text/x-python",
   "name": "python",
   "nbconvert_exporter": "python",
   "pygments_lexer": "ipython3",
   "version": "3.6.8"
  }
 },
 "nbformat": 4,
 "nbformat_minor": 2
}
