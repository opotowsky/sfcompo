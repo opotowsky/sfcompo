{
 "cells": [
  {
   "cell_type": "markdown",
   "metadata": {},
   "source": [
    "# Initial Exploratory/Scoping of SFCompo Data and Learning Opportunities"
   ]
  },
  {
   "cell_type": "code",
   "execution_count": 1,
   "metadata": {},
   "outputs": [
    {
     "name": "stdout",
     "output_type": "stream",
     "text": [
      "Running Tests of SFCompo Module\n",
      "\tTests of function getUnit() passed.\n",
      "\tTests of function extractUnits() passed.\n",
      "All tests passed.\n"
     ]
    }
   ],
   "source": [
    "# import statements\n",
    "# standard\n",
    "import numpy as np\n",
    "import pandas as pd\n",
    "\n",
    "# visualization\n",
    "import matplotlib.pyplot as plt\n",
    "import seaborn as sns\n",
    "\n",
    "# custom\n",
    "import Nuclide as NN\n",
    "import sfcompo as sfc"
   ]
  },
  {
   "cell_type": "code",
   "execution_count": 2,
   "metadata": {
    "collapsed": true,
    "scrolled": true
   },
   "outputs": [],
   "source": [
    "# Load data using SFCompo module tools\n",
    "sfc.setDataPath('/Users/ao0/sfcompo/sfcompo_data')\n",
    "X, U, cF = sfc.load()"
   ]
  },
  {
   "cell_type": "code",
   "execution_count": 3,
   "metadata": {
    "scrolled": true
   },
   "outputs": [
    {
     "data": {
      "text/plain": [
       "{'GW*d/tHMi': {'MW*d/tUi': 1000.0},\n",
       " 'GW*d/tUi': {'MW*d/tUi': 1000.0},\n",
       " 'MW*d/kgUi': {'MW*d/tUi': 1000.0},\n",
       " 'MW*d/tHMi': {'MW*d/tUi': 1.0},\n",
       " 'MW*d/tUi': {'MW*d/kgUi': 0.001, 'MW*d/tUi': 1.0},\n",
       " 'MW*h/kgUi': {'MW*d/tUi': 41.66666667},\n",
       " 'Pa': {'bar': 1e-05, 'psi': 0.000145038},\n",
       " 'bar': {'Pa': 100000.0, 'psi': 14.5038},\n",
       " 'cm': {'in': 0.393701, 'm': 0.01, 'mm': 10.0},\n",
       " 'g': {'kg': 0.001, 'lb': 0.00220462, 'mg': 1000.0},\n",
       " 'in': {'cm': 2.54, 'm': 0.0254, 'mm': 25.4},\n",
       " 'kg': {'g': 1000.0, 'lb': 2.20462, 'mg': 1000000.0},\n",
       " 'lb': {'g': 453.592, 'kg': 0.453592, 'mg': 453592.0},\n",
       " 'm': {'cm': 100.0, 'in': 39.3701, 'mm': 1000.0},\n",
       " 'mg': {'g': 0.001, 'kg': 1e-06, 'lb': 2.20462e-06},\n",
       " 'mm': {'cm': 0.1, 'in': 0.0393701, 'm': 0.001},\n",
       " 'psi': {'Pa': 689476.0, 'bar': 0.0689476}}"
      ]
     },
     "execution_count": 3,
     "metadata": {},
     "output_type": "execute_result"
    }
   ],
   "source": [
    "# Conversion Factor Table\n",
    "cF"
   ]
  },
  {
   "cell_type": "code",
   "execution_count": 4,
   "metadata": {},
   "outputs": [
    {
     "data": {
      "text/plain": [
       "(24219, 184)"
      ]
     },
     "execution_count": 4,
     "metadata": {},
     "output_type": "execute_result"
    }
   ],
   "source": [
    "U.shape"
   ]
  },
  {
   "cell_type": "code",
   "execution_count": 5,
   "metadata": {},
   "outputs": [
    {
     "data": {
      "text/html": [
       "<div>\n",
       "<table border=\"1\" class=\"dataframe\">\n",
       "  <thead>\n",
       "    <tr style=\"text-align: right;\">\n",
       "      <th></th>\n",
       "      <th>A</th>\n",
       "      <th>Absorber material</th>\n",
       "      <th>Absorber rod cladding inner diameter</th>\n",
       "      <th>Absorber rod cladding material</th>\n",
       "      <th>Absorber rod cladding outside diameter</th>\n",
       "      <th>Absorber rod pellet diameter</th>\n",
       "      <th>Absorber rod type</th>\n",
       "      <th>Active core diameter</th>\n",
       "      <th>Active core height</th>\n",
       "      <th>Active length</th>\n",
       "      <th>...</th>\n",
       "      <th>Water wing internal thickness</th>\n",
       "      <th>Water wing wall density</th>\n",
       "      <th>Water wing wall material</th>\n",
       "      <th>Water wing wall temperature</th>\n",
       "      <th>Water wing wall thickness</th>\n",
       "      <th>Wide water gap</th>\n",
       "      <th>Z</th>\n",
       "      <th>e. Pu</th>\n",
       "      <th>e. Pu239 + Pu241</th>\n",
       "      <th>e. U235</th>\n",
       "    </tr>\n",
       "    <tr>\n",
       "      <th>SFCompo sample ref</th>\n",
       "      <th></th>\n",
       "      <th></th>\n",
       "      <th></th>\n",
       "      <th></th>\n",
       "      <th></th>\n",
       "      <th></th>\n",
       "      <th></th>\n",
       "      <th></th>\n",
       "      <th></th>\n",
       "      <th></th>\n",
       "      <th></th>\n",
       "      <th></th>\n",
       "      <th></th>\n",
       "      <th></th>\n",
       "      <th></th>\n",
       "      <th></th>\n",
       "      <th></th>\n",
       "      <th></th>\n",
       "      <th></th>\n",
       "      <th></th>\n",
       "      <th></th>\n",
       "    </tr>\n",
       "  </thead>\n",
       "  <tbody>\n",
       "    <tr>\n",
       "      <th>BAL-2|1476|42|15</th>\n",
       "      <td>NaN</td>\n",
       "      <td>NaN</td>\n",
       "      <td>NaN</td>\n",
       "      <td>NaN</td>\n",
       "      <td>NaN</td>\n",
       "      <td>NaN</td>\n",
       "      <td>NaN</td>\n",
       "      <td>3.16</td>\n",
       "      <td>3.53</td>\n",
       "      <td>3530.0</td>\n",
       "      <td>...</td>\n",
       "      <td>NaN</td>\n",
       "      <td>NaN</td>\n",
       "      <td>NaN</td>\n",
       "      <td>NaN</td>\n",
       "      <td>NaN</td>\n",
       "      <td>NaN</td>\n",
       "      <td>NaN</td>\n",
       "      <td>NaN</td>\n",
       "      <td>NaN</td>\n",
       "      <td>4.4</td>\n",
       "    </tr>\n",
       "    <tr>\n",
       "      <th>BAL-2|1476|42|15</th>\n",
       "      <td>241.0</td>\n",
       "      <td>NaN</td>\n",
       "      <td>NaN</td>\n",
       "      <td>NaN</td>\n",
       "      <td>NaN</td>\n",
       "      <td>NaN</td>\n",
       "      <td>NaN</td>\n",
       "      <td>3.16</td>\n",
       "      <td>3.53</td>\n",
       "      <td>3530.0</td>\n",
       "      <td>...</td>\n",
       "      <td>NaN</td>\n",
       "      <td>NaN</td>\n",
       "      <td>NaN</td>\n",
       "      <td>NaN</td>\n",
       "      <td>NaN</td>\n",
       "      <td>NaN</td>\n",
       "      <td>95.0</td>\n",
       "      <td>NaN</td>\n",
       "      <td>NaN</td>\n",
       "      <td>4.4</td>\n",
       "    </tr>\n",
       "    <tr>\n",
       "      <th>BAL-2|1476|42|15</th>\n",
       "      <td>243.0</td>\n",
       "      <td>NaN</td>\n",
       "      <td>NaN</td>\n",
       "      <td>NaN</td>\n",
       "      <td>NaN</td>\n",
       "      <td>NaN</td>\n",
       "      <td>NaN</td>\n",
       "      <td>3.16</td>\n",
       "      <td>3.53</td>\n",
       "      <td>3530.0</td>\n",
       "      <td>...</td>\n",
       "      <td>NaN</td>\n",
       "      <td>NaN</td>\n",
       "      <td>NaN</td>\n",
       "      <td>NaN</td>\n",
       "      <td>NaN</td>\n",
       "      <td>NaN</td>\n",
       "      <td>95.0</td>\n",
       "      <td>NaN</td>\n",
       "      <td>NaN</td>\n",
       "      <td>4.4</td>\n",
       "    </tr>\n",
       "    <tr>\n",
       "      <th>BAL-2|1476|42|15</th>\n",
       "      <td>242.0</td>\n",
       "      <td>NaN</td>\n",
       "      <td>NaN</td>\n",
       "      <td>NaN</td>\n",
       "      <td>NaN</td>\n",
       "      <td>NaN</td>\n",
       "      <td>NaN</td>\n",
       "      <td>3.16</td>\n",
       "      <td>3.53</td>\n",
       "      <td>3530.0</td>\n",
       "      <td>...</td>\n",
       "      <td>NaN</td>\n",
       "      <td>NaN</td>\n",
       "      <td>NaN</td>\n",
       "      <td>NaN</td>\n",
       "      <td>NaN</td>\n",
       "      <td>NaN</td>\n",
       "      <td>96.0</td>\n",
       "      <td>NaN</td>\n",
       "      <td>NaN</td>\n",
       "      <td>4.4</td>\n",
       "    </tr>\n",
       "    <tr>\n",
       "      <th>BAL-2|1476|42|15</th>\n",
       "      <td>244.0</td>\n",
       "      <td>NaN</td>\n",
       "      <td>NaN</td>\n",
       "      <td>NaN</td>\n",
       "      <td>NaN</td>\n",
       "      <td>NaN</td>\n",
       "      <td>NaN</td>\n",
       "      <td>3.16</td>\n",
       "      <td>3.53</td>\n",
       "      <td>3530.0</td>\n",
       "      <td>...</td>\n",
       "      <td>NaN</td>\n",
       "      <td>NaN</td>\n",
       "      <td>NaN</td>\n",
       "      <td>NaN</td>\n",
       "      <td>NaN</td>\n",
       "      <td>NaN</td>\n",
       "      <td>96.0</td>\n",
       "      <td>NaN</td>\n",
       "      <td>NaN</td>\n",
       "      <td>4.4</td>\n",
       "    </tr>\n",
       "    <tr>\n",
       "      <th>BAL-2|1476|42|15</th>\n",
       "      <td>142.0</td>\n",
       "      <td>NaN</td>\n",
       "      <td>NaN</td>\n",
       "      <td>NaN</td>\n",
       "      <td>NaN</td>\n",
       "      <td>NaN</td>\n",
       "      <td>NaN</td>\n",
       "      <td>3.16</td>\n",
       "      <td>3.53</td>\n",
       "      <td>3530.0</td>\n",
       "      <td>...</td>\n",
       "      <td>NaN</td>\n",
       "      <td>NaN</td>\n",
       "      <td>NaN</td>\n",
       "      <td>NaN</td>\n",
       "      <td>NaN</td>\n",
       "      <td>NaN</td>\n",
       "      <td>60.0</td>\n",
       "      <td>NaN</td>\n",
       "      <td>NaN</td>\n",
       "      <td>4.4</td>\n",
       "    </tr>\n",
       "    <tr>\n",
       "      <th>BAL-2|1476|42|15</th>\n",
       "      <td>143.0</td>\n",
       "      <td>NaN</td>\n",
       "      <td>NaN</td>\n",
       "      <td>NaN</td>\n",
       "      <td>NaN</td>\n",
       "      <td>NaN</td>\n",
       "      <td>NaN</td>\n",
       "      <td>3.16</td>\n",
       "      <td>3.53</td>\n",
       "      <td>3530.0</td>\n",
       "      <td>...</td>\n",
       "      <td>NaN</td>\n",
       "      <td>NaN</td>\n",
       "      <td>NaN</td>\n",
       "      <td>NaN</td>\n",
       "      <td>NaN</td>\n",
       "      <td>NaN</td>\n",
       "      <td>60.0</td>\n",
       "      <td>NaN</td>\n",
       "      <td>NaN</td>\n",
       "      <td>4.4</td>\n",
       "    </tr>\n",
       "    <tr>\n",
       "      <th>BAL-2|1476|42|15</th>\n",
       "      <td>144.0</td>\n",
       "      <td>NaN</td>\n",
       "      <td>NaN</td>\n",
       "      <td>NaN</td>\n",
       "      <td>NaN</td>\n",
       "      <td>NaN</td>\n",
       "      <td>NaN</td>\n",
       "      <td>3.16</td>\n",
       "      <td>3.53</td>\n",
       "      <td>3530.0</td>\n",
       "      <td>...</td>\n",
       "      <td>NaN</td>\n",
       "      <td>NaN</td>\n",
       "      <td>NaN</td>\n",
       "      <td>NaN</td>\n",
       "      <td>NaN</td>\n",
       "      <td>NaN</td>\n",
       "      <td>60.0</td>\n",
       "      <td>NaN</td>\n",
       "      <td>NaN</td>\n",
       "      <td>4.4</td>\n",
       "    </tr>\n",
       "    <tr>\n",
       "      <th>BAL-2|1476|42|15</th>\n",
       "      <td>145.0</td>\n",
       "      <td>NaN</td>\n",
       "      <td>NaN</td>\n",
       "      <td>NaN</td>\n",
       "      <td>NaN</td>\n",
       "      <td>NaN</td>\n",
       "      <td>NaN</td>\n",
       "      <td>3.16</td>\n",
       "      <td>3.53</td>\n",
       "      <td>3530.0</td>\n",
       "      <td>...</td>\n",
       "      <td>NaN</td>\n",
       "      <td>NaN</td>\n",
       "      <td>NaN</td>\n",
       "      <td>NaN</td>\n",
       "      <td>NaN</td>\n",
       "      <td>NaN</td>\n",
       "      <td>60.0</td>\n",
       "      <td>NaN</td>\n",
       "      <td>NaN</td>\n",
       "      <td>4.4</td>\n",
       "    </tr>\n",
       "    <tr>\n",
       "      <th>BAL-2|1476|42|15</th>\n",
       "      <td>146.0</td>\n",
       "      <td>NaN</td>\n",
       "      <td>NaN</td>\n",
       "      <td>NaN</td>\n",
       "      <td>NaN</td>\n",
       "      <td>NaN</td>\n",
       "      <td>NaN</td>\n",
       "      <td>3.16</td>\n",
       "      <td>3.53</td>\n",
       "      <td>3530.0</td>\n",
       "      <td>...</td>\n",
       "      <td>NaN</td>\n",
       "      <td>NaN</td>\n",
       "      <td>NaN</td>\n",
       "      <td>NaN</td>\n",
       "      <td>NaN</td>\n",
       "      <td>NaN</td>\n",
       "      <td>60.0</td>\n",
       "      <td>NaN</td>\n",
       "      <td>NaN</td>\n",
       "      <td>4.4</td>\n",
       "    </tr>\n",
       "  </tbody>\n",
       "</table>\n",
       "<p>10 rows × 184 columns</p>\n",
       "</div>"
      ],
      "text/plain": [
       "                        A Absorber material  \\\n",
       "SFCompo sample ref                            \n",
       "BAL-2|1476|42|15      NaN               NaN   \n",
       "BAL-2|1476|42|15    241.0               NaN   \n",
       "BAL-2|1476|42|15    243.0               NaN   \n",
       "BAL-2|1476|42|15    242.0               NaN   \n",
       "BAL-2|1476|42|15    244.0               NaN   \n",
       "BAL-2|1476|42|15    142.0               NaN   \n",
       "BAL-2|1476|42|15    143.0               NaN   \n",
       "BAL-2|1476|42|15    144.0               NaN   \n",
       "BAL-2|1476|42|15    145.0               NaN   \n",
       "BAL-2|1476|42|15    146.0               NaN   \n",
       "\n",
       "                    Absorber rod cladding inner diameter  \\\n",
       "SFCompo sample ref                                         \n",
       "BAL-2|1476|42|15                                     NaN   \n",
       "BAL-2|1476|42|15                                     NaN   \n",
       "BAL-2|1476|42|15                                     NaN   \n",
       "BAL-2|1476|42|15                                     NaN   \n",
       "BAL-2|1476|42|15                                     NaN   \n",
       "BAL-2|1476|42|15                                     NaN   \n",
       "BAL-2|1476|42|15                                     NaN   \n",
       "BAL-2|1476|42|15                                     NaN   \n",
       "BAL-2|1476|42|15                                     NaN   \n",
       "BAL-2|1476|42|15                                     NaN   \n",
       "\n",
       "                   Absorber rod cladding material  \\\n",
       "SFCompo sample ref                                  \n",
       "BAL-2|1476|42|15                              NaN   \n",
       "BAL-2|1476|42|15                              NaN   \n",
       "BAL-2|1476|42|15                              NaN   \n",
       "BAL-2|1476|42|15                              NaN   \n",
       "BAL-2|1476|42|15                              NaN   \n",
       "BAL-2|1476|42|15                              NaN   \n",
       "BAL-2|1476|42|15                              NaN   \n",
       "BAL-2|1476|42|15                              NaN   \n",
       "BAL-2|1476|42|15                              NaN   \n",
       "BAL-2|1476|42|15                              NaN   \n",
       "\n",
       "                    Absorber rod cladding outside diameter  \\\n",
       "SFCompo sample ref                                           \n",
       "BAL-2|1476|42|15                                       NaN   \n",
       "BAL-2|1476|42|15                                       NaN   \n",
       "BAL-2|1476|42|15                                       NaN   \n",
       "BAL-2|1476|42|15                                       NaN   \n",
       "BAL-2|1476|42|15                                       NaN   \n",
       "BAL-2|1476|42|15                                       NaN   \n",
       "BAL-2|1476|42|15                                       NaN   \n",
       "BAL-2|1476|42|15                                       NaN   \n",
       "BAL-2|1476|42|15                                       NaN   \n",
       "BAL-2|1476|42|15                                       NaN   \n",
       "\n",
       "                    Absorber rod pellet diameter Absorber rod type  \\\n",
       "SFCompo sample ref                                                   \n",
       "BAL-2|1476|42|15                             NaN               NaN   \n",
       "BAL-2|1476|42|15                             NaN               NaN   \n",
       "BAL-2|1476|42|15                             NaN               NaN   \n",
       "BAL-2|1476|42|15                             NaN               NaN   \n",
       "BAL-2|1476|42|15                             NaN               NaN   \n",
       "BAL-2|1476|42|15                             NaN               NaN   \n",
       "BAL-2|1476|42|15                             NaN               NaN   \n",
       "BAL-2|1476|42|15                             NaN               NaN   \n",
       "BAL-2|1476|42|15                             NaN               NaN   \n",
       "BAL-2|1476|42|15                             NaN               NaN   \n",
       "\n",
       "                    Active core diameter  Active core height  Active length  \\\n",
       "SFCompo sample ref                                                            \n",
       "BAL-2|1476|42|15                    3.16                3.53         3530.0   \n",
       "BAL-2|1476|42|15                    3.16                3.53         3530.0   \n",
       "BAL-2|1476|42|15                    3.16                3.53         3530.0   \n",
       "BAL-2|1476|42|15                    3.16                3.53         3530.0   \n",
       "BAL-2|1476|42|15                    3.16                3.53         3530.0   \n",
       "BAL-2|1476|42|15                    3.16                3.53         3530.0   \n",
       "BAL-2|1476|42|15                    3.16                3.53         3530.0   \n",
       "BAL-2|1476|42|15                    3.16                3.53         3530.0   \n",
       "BAL-2|1476|42|15                    3.16                3.53         3530.0   \n",
       "BAL-2|1476|42|15                    3.16                3.53         3530.0   \n",
       "\n",
       "                     ...     Water wing internal thickness  \\\n",
       "SFCompo sample ref   ...                                     \n",
       "BAL-2|1476|42|15     ...                               NaN   \n",
       "BAL-2|1476|42|15     ...                               NaN   \n",
       "BAL-2|1476|42|15     ...                               NaN   \n",
       "BAL-2|1476|42|15     ...                               NaN   \n",
       "BAL-2|1476|42|15     ...                               NaN   \n",
       "BAL-2|1476|42|15     ...                               NaN   \n",
       "BAL-2|1476|42|15     ...                               NaN   \n",
       "BAL-2|1476|42|15     ...                               NaN   \n",
       "BAL-2|1476|42|15     ...                               NaN   \n",
       "BAL-2|1476|42|15     ...                               NaN   \n",
       "\n",
       "                    Water wing wall density  Water wing wall material  \\\n",
       "SFCompo sample ref                                                      \n",
       "BAL-2|1476|42|15                        NaN                       NaN   \n",
       "BAL-2|1476|42|15                        NaN                       NaN   \n",
       "BAL-2|1476|42|15                        NaN                       NaN   \n",
       "BAL-2|1476|42|15                        NaN                       NaN   \n",
       "BAL-2|1476|42|15                        NaN                       NaN   \n",
       "BAL-2|1476|42|15                        NaN                       NaN   \n",
       "BAL-2|1476|42|15                        NaN                       NaN   \n",
       "BAL-2|1476|42|15                        NaN                       NaN   \n",
       "BAL-2|1476|42|15                        NaN                       NaN   \n",
       "BAL-2|1476|42|15                        NaN                       NaN   \n",
       "\n",
       "                    Water wing wall temperature Water wing wall thickness  \\\n",
       "SFCompo sample ref                                                          \n",
       "BAL-2|1476|42|15                            NaN                       NaN   \n",
       "BAL-2|1476|42|15                            NaN                       NaN   \n",
       "BAL-2|1476|42|15                            NaN                       NaN   \n",
       "BAL-2|1476|42|15                            NaN                       NaN   \n",
       "BAL-2|1476|42|15                            NaN                       NaN   \n",
       "BAL-2|1476|42|15                            NaN                       NaN   \n",
       "BAL-2|1476|42|15                            NaN                       NaN   \n",
       "BAL-2|1476|42|15                            NaN                       NaN   \n",
       "BAL-2|1476|42|15                            NaN                       NaN   \n",
       "BAL-2|1476|42|15                            NaN                       NaN   \n",
       "\n",
       "                   Wide water gap     Z  e. Pu  e. Pu239 + Pu241  e. U235  \n",
       "SFCompo sample ref                                                         \n",
       "BAL-2|1476|42|15              NaN   NaN    NaN               NaN      4.4  \n",
       "BAL-2|1476|42|15              NaN  95.0    NaN               NaN      4.4  \n",
       "BAL-2|1476|42|15              NaN  95.0    NaN               NaN      4.4  \n",
       "BAL-2|1476|42|15              NaN  96.0    NaN               NaN      4.4  \n",
       "BAL-2|1476|42|15              NaN  96.0    NaN               NaN      4.4  \n",
       "BAL-2|1476|42|15              NaN  60.0    NaN               NaN      4.4  \n",
       "BAL-2|1476|42|15              NaN  60.0    NaN               NaN      4.4  \n",
       "BAL-2|1476|42|15              NaN  60.0    NaN               NaN      4.4  \n",
       "BAL-2|1476|42|15              NaN  60.0    NaN               NaN      4.4  \n",
       "BAL-2|1476|42|15              NaN  60.0    NaN               NaN      4.4  \n",
       "\n",
       "[10 rows x 184 columns]"
      ]
     },
     "execution_count": 5,
     "metadata": {},
     "output_type": "execute_result"
    }
   ],
   "source": [
    "X.head(10)"
   ]
  },
  {
   "cell_type": "markdown",
   "metadata": {},
   "source": [
    "## Testing Old SFCompo Functionality"
   ]
  },
  {
   "cell_type": "code",
   "execution_count": 4,
   "metadata": {
    "collapsed": true
   },
   "outputs": [],
   "source": [
    "# Test Functions from Original Notebook & Scrub\n",
    "# Get unique entries for Reactors (on which inlet temperature depends)\n",
    "# With this construction (subset designation), if diff assemblies from one reactor\n",
    "# had unique temperature values, these would be represented\n",
    "Xtmp = X.drop_duplicates(subset=['Coolant inlet temperature', 'Coolant outlet temperature']).reset_index()"
   ]
  },
  {
   "cell_type": "code",
   "execution_count": 5,
   "metadata": {
    "collapsed": true
   },
   "outputs": [],
   "source": [
    "# There are few entries that were just hyphens. These are replaced with np.nan\n",
    "def f(x):\n",
    "    if x == '-':\n",
    "        return np.nan\n",
    "    else:\n",
    "        return x\n",
    "X = X.applymap(f)"
   ]
  },
  {
   "cell_type": "code",
   "execution_count": 6,
   "metadata": {
    "scrolled": true
   },
   "outputs": [
    {
     "data": {
      "text/html": [
       "<div>\n",
       "<table border=\"1\" class=\"dataframe\">\n",
       "  <thead>\n",
       "    <tr style=\"text-align: right;\">\n",
       "      <th></th>\n",
       "      <th>Reactor name</th>\n",
       "      <th>Reactor type</th>\n",
       "      <th>Coolant inlet temperature</th>\n",
       "      <th>Coolant outlet temperature</th>\n",
       "    </tr>\n",
       "  </thead>\n",
       "  <tbody>\n",
       "    <tr>\n",
       "      <th>0</th>\n",
       "      <td>Balakovo-2</td>\n",
       "      <td>VVER-1000</td>\n",
       "      <td>290</td>\n",
       "      <td>322</td>\n",
       "    </tr>\n",
       "    <tr>\n",
       "      <th>1</th>\n",
       "      <td>Beznau-1</td>\n",
       "      <td>PWR</td>\n",
       "      <td>283.8</td>\n",
       "      <td>316.9</td>\n",
       "    </tr>\n",
       "    <tr>\n",
       "      <th>2</th>\n",
       "      <td>Bradwell-1</td>\n",
       "      <td>MAGNOX</td>\n",
       "      <td>453</td>\n",
       "      <td>663</td>\n",
       "    </tr>\n",
       "    <tr>\n",
       "      <th>3</th>\n",
       "      <td>Bruce-1</td>\n",
       "      <td>CANDU</td>\n",
       "      <td>522</td>\n",
       "      <td>573</td>\n",
       "    </tr>\n",
       "    <tr>\n",
       "      <th>4</th>\n",
       "      <td>Calvert Cliffs-1</td>\n",
       "      <td>PWR</td>\n",
       "      <td>557</td>\n",
       "      <td>585</td>\n",
       "    </tr>\n",
       "    <tr>\n",
       "      <th>5</th>\n",
       "      <td>Cooper-1</td>\n",
       "      <td>BWR</td>\n",
       "      <td>459</td>\n",
       "      <td>558</td>\n",
       "    </tr>\n",
       "    <tr>\n",
       "      <th>6</th>\n",
       "      <td>Dodewaard-1</td>\n",
       "      <td>BWR</td>\n",
       "      <td>289</td>\n",
       "      <td>NaN</td>\n",
       "    </tr>\n",
       "    <tr>\n",
       "      <th>7</th>\n",
       "      <td>Forsmark-3</td>\n",
       "      <td>BWR</td>\n",
       "      <td>278</td>\n",
       "      <td>286</td>\n",
       "    </tr>\n",
       "    <tr>\n",
       "      <th>8</th>\n",
       "      <td>Fukushima-Daiichi-3</td>\n",
       "      <td>BWR</td>\n",
       "      <td>196</td>\n",
       "      <td>286</td>\n",
       "    </tr>\n",
       "    <tr>\n",
       "      <th>9</th>\n",
       "      <td>Fukushima-Daini-2</td>\n",
       "      <td>BWR</td>\n",
       "      <td>216</td>\n",
       "      <td>286</td>\n",
       "    </tr>\n",
       "    <tr>\n",
       "      <th>10</th>\n",
       "      <td>Garigliano-1</td>\n",
       "      <td>BWR</td>\n",
       "      <td>269</td>\n",
       "      <td>285</td>\n",
       "    </tr>\n",
       "    <tr>\n",
       "      <th>11</th>\n",
       "      <td>Genkai-1</td>\n",
       "      <td>PWR</td>\n",
       "      <td>288</td>\n",
       "      <td>323</td>\n",
       "    </tr>\n",
       "    <tr>\n",
       "      <th>12</th>\n",
       "      <td>Gundremmingen-1</td>\n",
       "      <td>BWR</td>\n",
       "      <td>266</td>\n",
       "      <td>286</td>\n",
       "    </tr>\n",
       "    <tr>\n",
       "      <th>13</th>\n",
       "      <td>Gösgen-1</td>\n",
       "      <td>PWR</td>\n",
       "      <td>292</td>\n",
       "      <td>326</td>\n",
       "    </tr>\n",
       "    <tr>\n",
       "      <th>14</th>\n",
       "      <td>H.B. Robinson-2</td>\n",
       "      <td>PWR</td>\n",
       "      <td>559</td>\n",
       "      <td>591</td>\n",
       "    </tr>\n",
       "    <tr>\n",
       "      <th>15</th>\n",
       "      <td>Hinkley Point B-1</td>\n",
       "      <td>AGR</td>\n",
       "      <td>565</td>\n",
       "      <td>918</td>\n",
       "    </tr>\n",
       "    <tr>\n",
       "      <th>16</th>\n",
       "      <td>Hunterston A-1</td>\n",
       "      <td>MAGNOX</td>\n",
       "      <td>477</td>\n",
       "      <td>669</td>\n",
       "    </tr>\n",
       "    <tr>\n",
       "      <th>17</th>\n",
       "      <td>Japan Power Demonstration Reactor-1</td>\n",
       "      <td>BWR</td>\n",
       "      <td>277</td>\n",
       "      <td>277</td>\n",
       "    </tr>\n",
       "    <tr>\n",
       "      <th>18</th>\n",
       "      <td>Kola-3</td>\n",
       "      <td>VVER-440</td>\n",
       "      <td>267</td>\n",
       "      <td>300</td>\n",
       "    </tr>\n",
       "    <tr>\n",
       "      <th>19</th>\n",
       "      <td>Leningrad-1</td>\n",
       "      <td>RBMK</td>\n",
       "      <td>270</td>\n",
       "      <td>284</td>\n",
       "    </tr>\n",
       "    <tr>\n",
       "      <th>20</th>\n",
       "      <td>Mihama-3</td>\n",
       "      <td>PWR</td>\n",
       "      <td>287</td>\n",
       "      <td>322</td>\n",
       "    </tr>\n",
       "    <tr>\n",
       "      <th>21</th>\n",
       "      <td>Monticello-1</td>\n",
       "      <td>BWR</td>\n",
       "      <td>277</td>\n",
       "      <td>285</td>\n",
       "    </tr>\n",
       "    <tr>\n",
       "      <th>22</th>\n",
       "      <td>Neckarwestheim-2</td>\n",
       "      <td>PWR</td>\n",
       "      <td>291.7</td>\n",
       "      <td>327.5</td>\n",
       "    </tr>\n",
       "    <tr>\n",
       "      <th>23</th>\n",
       "      <td>Novovoronezh-3</td>\n",
       "      <td>VVER-440</td>\n",
       "      <td>267.9</td>\n",
       "      <td>296.8</td>\n",
       "    </tr>\n",
       "    <tr>\n",
       "      <th>24</th>\n",
       "      <td>Novovoronezh-4</td>\n",
       "      <td>VVER-440</td>\n",
       "      <td>267</td>\n",
       "      <td>295.8</td>\n",
       "    </tr>\n",
       "    <tr>\n",
       "      <th>25</th>\n",
       "      <td>Nuclear Power Demonstration Reactor-1</td>\n",
       "      <td>CANDU</td>\n",
       "      <td>525</td>\n",
       "      <td>550</td>\n",
       "    </tr>\n",
       "    <tr>\n",
       "      <th>26</th>\n",
       "      <td>Obrigheim-1</td>\n",
       "      <td>PWR</td>\n",
       "      <td>556</td>\n",
       "      <td>586</td>\n",
       "    </tr>\n",
       "    <tr>\n",
       "      <th>27</th>\n",
       "      <td>Ohi-1</td>\n",
       "      <td>PWR</td>\n",
       "      <td>289</td>\n",
       "      <td>325</td>\n",
       "    </tr>\n",
       "    <tr>\n",
       "      <th>28</th>\n",
       "      <td>Pickering A-1</td>\n",
       "      <td>CANDU</td>\n",
       "      <td>522</td>\n",
       "      <td>566</td>\n",
       "    </tr>\n",
       "    <tr>\n",
       "      <th>29</th>\n",
       "      <td>Quad Cities-1</td>\n",
       "      <td>BWR</td>\n",
       "      <td>276</td>\n",
       "      <td>286</td>\n",
       "    </tr>\n",
       "    <tr>\n",
       "      <th>30</th>\n",
       "      <td>Takahama-3</td>\n",
       "      <td>PWR</td>\n",
       "      <td>284</td>\n",
       "      <td>321</td>\n",
       "    </tr>\n",
       "    <tr>\n",
       "      <th>31</th>\n",
       "      <td>Three Mile Island-1</td>\n",
       "      <td>PWR</td>\n",
       "      <td>291</td>\n",
       "      <td>318</td>\n",
       "    </tr>\n",
       "    <tr>\n",
       "      <th>32</th>\n",
       "      <td>Trino Vercellese-1</td>\n",
       "      <td>PWR</td>\n",
       "      <td>539.5</td>\n",
       "      <td>570.5</td>\n",
       "    </tr>\n",
       "    <tr>\n",
       "      <th>33</th>\n",
       "      <td>Tsuruga-1</td>\n",
       "      <td>BWR</td>\n",
       "      <td>189</td>\n",
       "      <td>285</td>\n",
       "    </tr>\n",
       "    <tr>\n",
       "      <th>34</th>\n",
       "      <td>Turkey Point-3</td>\n",
       "      <td>PWR</td>\n",
       "      <td>555</td>\n",
       "      <td>611</td>\n",
       "    </tr>\n",
       "    <tr>\n",
       "      <th>35</th>\n",
       "      <td>Vandellos-2</td>\n",
       "      <td>PWR</td>\n",
       "      <td>565</td>\n",
       "      <td>601</td>\n",
       "    </tr>\n",
       "    <tr>\n",
       "      <th>36</th>\n",
       "      <td>Yankee-1</td>\n",
       "      <td>PWR</td>\n",
       "      <td>Varies by cycle</td>\n",
       "      <td>Varies by cycle</td>\n",
       "    </tr>\n",
       "  </tbody>\n",
       "</table>\n",
       "</div>"
      ],
      "text/plain": [
       "                             Reactor name Reactor type  \\\n",
       "0                              Balakovo-2    VVER-1000   \n",
       "1                                Beznau-1          PWR   \n",
       "2                              Bradwell-1       MAGNOX   \n",
       "3                                 Bruce-1        CANDU   \n",
       "4                        Calvert Cliffs-1          PWR   \n",
       "5                                Cooper-1          BWR   \n",
       "6                             Dodewaard-1          BWR   \n",
       "7                              Forsmark-3          BWR   \n",
       "8                     Fukushima-Daiichi-3          BWR   \n",
       "9                       Fukushima-Daini-2          BWR   \n",
       "10                           Garigliano-1          BWR   \n",
       "11                               Genkai-1          PWR   \n",
       "12                        Gundremmingen-1          BWR   \n",
       "13                               Gösgen-1          PWR   \n",
       "14                        H.B. Robinson-2          PWR   \n",
       "15                      Hinkley Point B-1          AGR   \n",
       "16                         Hunterston A-1       MAGNOX   \n",
       "17    Japan Power Demonstration Reactor-1          BWR   \n",
       "18                                 Kola-3     VVER-440   \n",
       "19                            Leningrad-1         RBMK   \n",
       "20                               Mihama-3          PWR   \n",
       "21                           Monticello-1          BWR   \n",
       "22                       Neckarwestheim-2          PWR   \n",
       "23                         Novovoronezh-3     VVER-440   \n",
       "24                         Novovoronezh-4     VVER-440   \n",
       "25  Nuclear Power Demonstration Reactor-1        CANDU   \n",
       "26                            Obrigheim-1          PWR   \n",
       "27                                  Ohi-1          PWR   \n",
       "28                          Pickering A-1        CANDU   \n",
       "29                          Quad Cities-1          BWR   \n",
       "30                             Takahama-3          PWR   \n",
       "31                    Three Mile Island-1          PWR   \n",
       "32                     Trino Vercellese-1          PWR   \n",
       "33                              Tsuruga-1          BWR   \n",
       "34                         Turkey Point-3          PWR   \n",
       "35                            Vandellos-2          PWR   \n",
       "36                               Yankee-1          PWR   \n",
       "\n",
       "   Coolant inlet temperature Coolant outlet temperature  \n",
       "0                        290                        322  \n",
       "1                      283.8                      316.9  \n",
       "2                        453                        663  \n",
       "3                        522                        573  \n",
       "4                        557                        585  \n",
       "5                        459                        558  \n",
       "6                        289                        NaN  \n",
       "7                        278                        286  \n",
       "8                        196                        286  \n",
       "9                        216                        286  \n",
       "10                       269                        285  \n",
       "11                       288                        323  \n",
       "12                       266                        286  \n",
       "13                       292                        326  \n",
       "14                       559                        591  \n",
       "15                       565                        918  \n",
       "16                       477                        669  \n",
       "17                       277                        277  \n",
       "18                       267                        300  \n",
       "19                       270                        284  \n",
       "20                       287                        322  \n",
       "21                       277                        285  \n",
       "22                     291.7                      327.5  \n",
       "23                     267.9                      296.8  \n",
       "24                       267                      295.8  \n",
       "25                       525                        550  \n",
       "26                       556                        586  \n",
       "27                       289                        325  \n",
       "28                       522                        566  \n",
       "29                       276                        286  \n",
       "30                       284                        321  \n",
       "31                       291                        318  \n",
       "32                     539.5                      570.5  \n",
       "33                       189                        285  \n",
       "34                       555                        611  \n",
       "35                       565                        601  \n",
       "36           Varies by cycle            Varies by cycle  "
      ]
     },
     "execution_count": 6,
     "metadata": {},
     "output_type": "execute_result"
    }
   ],
   "source": [
    "Xtmp[['Reactor name','Reactor type','Coolant inlet temperature','Coolant outlet temperature']]\n"
   ]
  },
  {
   "cell_type": "code",
   "execution_count": 7,
   "metadata": {
    "collapsed": true
   },
   "outputs": [],
   "source": [
    "def calc_temp_change(row):\n",
    "    try:\n",
    "        diff = row['Coolant outlet temperature'] - row['Coolant inlet temperature']\n",
    "    except:\n",
    "        diff = np.nan\n",
    "    return diff\n",
    "\n",
    "# We specify axis=1 in the apply call to apply 'calc_temp_change' to each row (axis=0 -> apply to each column)\n",
    "Xtmp['Coolant temperature change'] = Xtmp.apply(calc_temp_change,axis=1)"
   ]
  },
  {
   "cell_type": "code",
   "execution_count": 8,
   "metadata": {},
   "outputs": [
    {
     "data": {
      "image/png": "[encoded data removed]",
      "text/plain": [
       "<matplotlib.figure.Figure at 0x104d70710>"
      ]
     },
     "metadata": {},
     "output_type": "display_data"
    }
   ],
   "source": [
    "# Do a groupby and plot\n",
    "sns.set_context('talk')\n",
    "sns.set_style('ticks')\n",
    "Xtmp[['Reactor name','Reactor type','Coolant inlet temperature','Coolant outlet temperature','Coolant temperature change']].groupby('Reactor type').mean().plot(kind='bar')\n",
    "plt.show()"
   ]
  },
  {
   "cell_type": "code",
   "execution_count": 23,
   "metadata": {},
   "outputs": [
    {
     "data": {
      "image/png": "[encoded data removed]",
      "text/plain": [
       "<matplotlib.figure.Figure at 0x11269a590>"
      ]
     },
     "metadata": {},
     "output_type": "display_data"
    }
   ],
   "source": [
    "# There are more measurements of some reactors than others, and this will skew statistics\n",
    "# First, reduce the data to one row per rod since the burnup is not specific to individual measurements in the data\n",
    "X_unique_rods = X.drop_duplicates(subset=['Reactor name','Estimated burnup'])\n",
    "\n",
    "# Group the data together by reactor type, compute the mean of the burnup entry and create a bar chart\n",
    "Y = sfc.changeUnits(X_unique_rods, 'Estimated burnup','MW*d/tUi', U, cF)['Estimated burnup']\n",
    "X_unique_rods.groupby('Reactor type')['Estimated burnup'].mean().plot(kind='bar')\n",
    "plt.title('Average Burnup of Measured Fuel')\n",
    "plt.xlabel('Reactor Type')\n",
    "plt.ylabel('Approximate Fuel Burnup')\n",
    "plt.show()"
   ]
  },
  {
   "cell_type": "markdown",
   "metadata": {},
   "source": [
    "Ack! What's happening? Clearly the CANDU and PWR groups have some entries with a different unit.\n",
    "\n",
    "We'll use the (new) conversion factor table to fix this and replot"
   ]
  },
  {
   "cell_type": "code",
   "execution_count": 24,
   "metadata": {},
   "outputs": [
    {
     "data": {
      "text/plain": [
       "SFCompo sample ref\n",
       "BRU-1|F21037C|1|1         7.8\n",
       "NPD-1|1016|1|1            5.3\n",
       "NPD-1|1016|2|1            5.6\n",
       "NPD-1|1016|3|1            6.6\n",
       "NPD-1|1022|A|1          791.0\n",
       "NPD-1|1022|B|1          854.0\n",
       "NPD-1|1022|C|1         1059.0\n",
       "NPD-1|1052|A|1         6526.0\n",
       "NPD-1|1052|B|1         6927.0\n",
       "NPD-1|1052|C|1         8530.0\n",
       "NPD-1|1092|A|1         7642.0\n",
       "NPD-1|1092|B|1         8050.0\n",
       "NPD-1|1092|C|1         9800.0\n",
       "NPD-1|1096|A|1         5337.0\n",
       "NPD-1|1096|B|1         5976.0\n",
       "NPD-1|1096|C|1         6828.0\n",
       "NPD-1|1129|A|1         1223.0\n",
       "NPD-1|1129|B|1         1306.0\n",
       "NPD-1|1129|C|1         1622.0\n",
       "NPD-1|1630|A|1         2733.0\n",
       "NPD-1|1630|C|1         3550.0\n",
       "NPD-1|922|A|1          3809.0\n",
       "NPD-1|922|B|1          4453.0\n",
       "NPD-1|922|C|1          5372.0\n",
       "NPD-1|955|A|1          9224.0\n",
       "NPD-1|955|B|1          9632.0\n",
       "NPD-1|955|C|1         11501.0\n",
       "PIK-1|PA19558C|7|1      221.0\n",
       "Name: Estimated burnup, dtype: float64"
      ]
     },
     "execution_count": 24,
     "metadata": {},
     "output_type": "execute_result"
    }
   ],
   "source": [
    "X_unique_rods[X_unique_rods['Reactor type'] == 'CANDU']['Estimated burnup']"
   ]
  },
  {
   "cell_type": "code",
   "execution_count": 54,
   "metadata": {
    "collapsed": true
   },
   "outputs": [],
   "source": [
    "Z = sfc.changeUnits(X_unique_rods, 'Estimated burnup','MW*d/tUi', U, cF)"
   ]
  },
  {
   "cell_type": "code",
   "execution_count": 57,
   "metadata": {},
   "outputs": [
    {
     "data": {
      "text/plain": [
       "Estimated burnup    221000.0\n",
       "Name: PIK-1|PA19558C|7|1, dtype: float64"
      ]
     },
     "execution_count": 57,
     "metadata": {},
     "output_type": "execute_result"
    }
   ],
   "source": [
    "Z.loc['PIK-1|PA19558C|7|1']"
   ]
  },
  {
   "cell_type": "markdown",
   "metadata": {},
   "source": [
    "#something weird going on with unit conversions... are the units in the matrix U correct? did the conversion happen incorrectly?"
   ]
  },
  {
   "cell_type": "code",
   "execution_count": 53,
   "metadata": {},
   "outputs": [
    {
     "data": {
      "text/plain": [
       "41.66666667"
      ]
     },
     "execution_count": 53,
     "metadata": {},
     "output_type": "execute_result"
    }
   ],
   "source": [
    "cF['MW*h/kgUi']['MW*d/tUi']"
   ]
  },
  {
   "cell_type": "code",
   "execution_count": 38,
   "metadata": {},
   "outputs": [
    {
     "data": {
      "text/plain": [
       "84"
      ]
     },
     "execution_count": 38,
     "metadata": {},
     "output_type": "execute_result"
    }
   ],
   "source": [
    "X.columns.get_loc('Estimated burnup')"
   ]
  },
  {
   "cell_type": "code",
   "execution_count": 44,
   "metadata": {
    "collapsed": true
   },
   "outputs": [],
   "source": [
    "idx = np.where(X.index.get_loc('PIK-1|PA19558C|7|1'))[0]"
   ]
  },
  {
   "cell_type": "code",
   "execution_count": 60,
   "metadata": {},
   "outputs": [
    {
     "data": {
      "text/plain": [
       "41.66666667"
      ]
     },
     "execution_count": 60,
     "metadata": {},
     "output_type": "execute_result"
    }
   ],
   "source": [
    "cF[U[idx,84][0]]['MW*d/tUi']"
   ]
  },
  {
   "cell_type": "code",
   "execution_count": 48,
   "metadata": {},
   "outputs": [
    {
     "data": {
      "text/plain": [
       "41.666666666666664"
      ]
     },
     "execution_count": 48,
     "metadata": {},
     "output_type": "execute_result"
    }
   ],
   "source": [
    "1000./24"
   ]
  },
  {
   "cell_type": "code",
   "execution_count": 49,
   "metadata": {},
   "outputs": [
    {
     "data": {
      "text/plain": [
       "9208.340699999999"
      ]
     },
     "execution_count": 49,
     "metadata": {},
     "output_type": "execute_result"
    }
   ],
   "source": [
    "221.*41.6667"
   ]
  },
  {
   "cell_type": "code",
   "execution_count": null,
   "metadata": {
    "collapsed": true
   },
   "outputs": [],
   "source": []
  },
  {
   "cell_type": "code",
   "execution_count": null,
   "metadata": {
    "collapsed": true
   },
   "outputs": [],
   "source": []
  },
  {
   "cell_type": "code",
   "execution_count": null,
   "metadata": {
    "collapsed": true
   },
   "outputs": [],
   "source": []
  },
  {
   "cell_type": "code",
   "execution_count": null,
   "metadata": {
    "collapsed": true
   },
   "outputs": [],
   "source": []
  },
  {
   "cell_type": "code",
   "execution_count": null,
   "metadata": {
    "collapsed": true
   },
   "outputs": [],
   "source": []
  },
  {
   "cell_type": "code",
   "execution_count": null,
   "metadata": {
    "collapsed": true
   },
   "outputs": [],
   "source": []
  },
  {
   "cell_type": "code",
   "execution_count": null,
   "metadata": {
    "collapsed": true
   },
   "outputs": [],
   "source": []
  },
  {
   "cell_type": "code",
   "execution_count": null,
   "metadata": {
    "collapsed": true
   },
   "outputs": [],
   "source": []
  },
  {
   "cell_type": "code",
   "execution_count": null,
   "metadata": {
    "collapsed": true
   },
   "outputs": [],
   "source": []
  },
  {
   "cell_type": "code",
   "execution_count": null,
   "metadata": {
    "collapsed": true
   },
   "outputs": [],
   "source": []
  },
  {
   "cell_type": "markdown",
   "metadata": {},
   "source": [
    "# SCRATCH"
   ]
  },
  {
   "cell_type": "code",
   "execution_count": 36,
   "metadata": {
    "collapsed": true
   },
   "outputs": [],
   "source": [
    "def getAssayData(X):\n",
    "    '''\n",
    "    Given a subset of the SFCompo database, finds all available assay data\n",
    "    return a cleaned, homogenized dataFrame copy and associate numpy nd.array\n",
    "    '''\n",
    "    # make copy to manipulate\n",
    "    tmp = X.copy()\n",
    "    # remove metadata\n",
    "    tmp = tmp[['Concentration', 'Concentration Unit', 'Estimated burnup', \n",
    "               'Fuel type', 'Item', 'Measurement type', 'Reactor name',\n",
    "               'Sigma', 'Uncertainty', 'Unit', 'Value', 'e. Pu', \n",
    "               'e. Pu239 + Pu241', 'e. U235']]\n",
    "    # drop rows that have invalid Concentration entry\n",
    "    tmp = tmp[np.isnan(tmp.Concentration) == False]\n",
    "    # remove U or Pu enrichment data\n",
    "    if np.sum(np.isnan(tmp['e. U235'])) > 0:\n",
    "        \n",
    "    elif np.sum(np.isnan(tmp['e. Pu'])) > 0:\n",
    "\n",
    "    else:\n",
    "        raise WeirdDataException('There is a combination of Pu-based and U-based fuel in the given data: Outside designed function scope')\n",
    "    return tmp"
   ]
  },
  {
   "cell_type": "code",
   "execution_count": 37,
   "metadata": {
    "collapsed": true
   },
   "outputs": [],
   "source": [
    "tmp = getAssayData(X[(X['Reactor type']=='PWR')&(X['Fuel type'] == 'UO2')])"
   ]
  },
  {
   "cell_type": "code",
   "execution_count": null,
   "metadata": {
    "collapsed": true
   },
   "outputs": [],
   "source": []
  },
  {
   "cell_type": "code",
   "execution_count": null,
   "metadata": {
    "collapsed": true
   },
   "outputs": [],
   "source": []
  },
  {
   "cell_type": "code",
   "execution_count": null,
   "metadata": {
    "collapsed": true
   },
   "outputs": [],
   "source": []
  },
  {
   "cell_type": "code",
   "execution_count": null,
   "metadata": {
    "collapsed": true
   },
   "outputs": [],
   "source": []
  },
  {
   "cell_type": "code",
   "execution_count": null,
   "metadata": {
    "collapsed": true
   },
   "outputs": [],
   "source": []
  },
  {
   "cell_type": "code",
   "execution_count": null,
   "metadata": {
    "collapsed": true
   },
   "outputs": [],
   "source": []
  },
  {
   "cell_type": "code",
   "execution_count": null,
   "metadata": {
    "collapsed": true
   },
   "outputs": [],
   "source": []
  },
  {
   "cell_type": "code",
   "execution_count": null,
   "metadata": {
    "collapsed": true
   },
   "outputs": [],
   "source": []
  },
  {
   "cell_type": "code",
   "execution_count": null,
   "metadata": {
    "collapsed": true
   },
   "outputs": [],
   "source": []
  },
  {
   "cell_type": "code",
   "execution_count": null,
   "metadata": {
    "collapsed": true
   },
   "outputs": [],
   "source": []
  },
  {
   "cell_type": "code",
   "execution_count": null,
   "metadata": {
    "collapsed": true
   },
   "outputs": [],
   "source": []
  },
  {
   "cell_type": "code",
   "execution_count": null,
   "metadata": {
    "collapsed": true
   },
   "outputs": [],
   "source": []
  },
  {
   "cell_type": "code",
   "execution_count": null,
   "metadata": {
    "collapsed": true
   },
   "outputs": [],
   "source": []
  },
  {
   "cell_type": "code",
   "execution_count": null,
   "metadata": {
    "collapsed": true
   },
   "outputs": [],
   "source": []
  }
 ],
 "metadata": {
  "kernelspec": {
   "display_name": "Python 3",
   "language": "python",
   "name": "python3"
  },
  "language_info": {
   "codemirror_mode": {
    "name": "ipython",
    "version": 3
   },
   "file_extension": ".py",
   "mimetype": "text/x-python",
   "name": "python",
   "nbconvert_exporter": "python",
   "pygments_lexer": "ipython3",
   "version": "3.6.3"
  }
 },
 "nbformat": 4,
 "nbformat_minor": 2
}
