{
 "cells": [
  {
   "cell_type": "code",
   "execution_count": 6,
   "metadata": {},
   "outputs": [],
   "source": [
    "import pandas as pd\n",
    "import numpy as np\n",
    "import matplotlib.pyplot as plt\n",
    "%matplotlib inline"
   ]
  },
  {
   "cell_type": "markdown",
   "metadata": {},
   "source": [
    "## Make a pkl file of csv download from SFCOMPO"
   ]
  },
  {
   "cell_type": "code",
   "execution_count": 7,
   "metadata": {},
   "outputs": [],
   "source": [
    "csv = '../raw/all.csv'"
   ]
  },
  {
   "cell_type": "code",
   "execution_count": 8,
   "metadata": {},
   "outputs": [
    {
     "data": {
      "text/plain": [
       "(16946, 18)"
      ]
     },
     "execution_count": 8,
     "metadata": {},
     "output_type": "execute_result"
    }
   ],
   "source": [
    "sfc = pd.read_csv(csv)\n",
    "sfc.shape"
   ]
  },
  {
   "cell_type": "code",
   "execution_count": 9,
   "metadata": {},
   "outputs": [],
   "source": [
    "sfc.drop(columns=['Sample identifier', 'Z', 'A', 'I'], inplace=True)"
   ]
  },
  {
   "cell_type": "code",
   "execution_count": 10,
   "metadata": {},
   "outputs": [],
   "source": [
    "cols = {'Reactor name' : 'ReactorName', \n",
    "        'Reactor type' : 'ReactorType',\n",
    "        'Estimated burnup' : 'Burnup', \n",
    "        'e. U235' : 'Enrichment',\n",
    "        'SFCompo sample ref' : 'SampleRef',\n",
    "        'Measurement type' : 'Measurement', \n",
    "        'Item' : 'Isotope',\n",
    "        'Value' : 'Value', \n",
    "        'Unit' : 'Unit',\n",
    "        'Concentration' : 'Concentration', \n",
    "        'Concentration Unit' : 'ConcentrationUnit',\n",
    "        'Sigma' : 'Sigma', \n",
    "        'Uncertainty' : 'Uncertainty'\n",
    "        }\n",
    "sfc.rename(columns=cols, inplace=True)"
   ]
  },
  {
   "cell_type": "code",
   "execution_count": 11,
   "metadata": {},
   "outputs": [],
   "source": [
    "sfc.to_csv('../inprogress/sfcompoDB.csv')"
   ]
  },
  {
   "cell_type": "code",
   "execution_count": 12,
   "metadata": {},
   "outputs": [
    {
     "data": {
      "text/html": [
       "<div>\n",
       "<style scoped>\n",
       "    .dataframe tbody tr th:only-of-type {\n",
       "        vertical-align: middle;\n",
       "    }\n",
       "\n",
       "    .dataframe tbody tr th {\n",
       "        vertical-align: top;\n",
       "    }\n",
       "\n",
       "    .dataframe thead th {\n",
       "        text-align: right;\n",
       "    }\n",
       "</style>\n",
       "<table border=\"1\" class=\"dataframe\">\n",
       "  <thead>\n",
       "    <tr style=\"text-align: right;\">\n",
       "      <th></th>\n",
       "      <th>ReactorName</th>\n",
       "      <th>ReactorType</th>\n",
       "      <th>Fuel type</th>\n",
       "      <th>Burnup</th>\n",
       "      <th>Enrichment</th>\n",
       "      <th>SampleRef</th>\n",
       "      <th>Measurement</th>\n",
       "      <th>Isotope</th>\n",
       "      <th>Value</th>\n",
       "      <th>Unit</th>\n",
       "      <th>Concentration</th>\n",
       "      <th>ConcentrationUnit</th>\n",
       "      <th>Sigma</th>\n",
       "      <th>Uncertainty</th>\n",
       "    </tr>\n",
       "  </thead>\n",
       "  <tbody>\n",
       "    <tr>\n",
       "      <th>0</th>\n",
       "      <td>Balakovo-2</td>\n",
       "      <td>VVER-1000</td>\n",
       "      <td>UO2</td>\n",
       "      <td>45.1 GW*d/tHMi</td>\n",
       "      <td>4.4 wt%</td>\n",
       "      <td>BAL-2|1476|42|15</td>\n",
       "      <td>Isotopic Concentration</td>\n",
       "      <td>Am241</td>\n",
       "      <td>0.048</td>\n",
       "      <td>mg/gUi</td>\n",
       "      <td>0.048</td>\n",
       "      <td>mg/gUi</td>\n",
       "      <td>2.0</td>\n",
       "      <td>4.17 %</td>\n",
       "    </tr>\n",
       "    <tr>\n",
       "      <th>1</th>\n",
       "      <td>Balakovo-2</td>\n",
       "      <td>VVER-1000</td>\n",
       "      <td>UO2</td>\n",
       "      <td>45.1 GW*d/tHMi</td>\n",
       "      <td>4.4 wt%</td>\n",
       "      <td>BAL-2|1476|42|15</td>\n",
       "      <td>Isotopic Concentration</td>\n",
       "      <td>Am243</td>\n",
       "      <td>0.141</td>\n",
       "      <td>mg/gUi</td>\n",
       "      <td>0.141</td>\n",
       "      <td>mg/gUi</td>\n",
       "      <td>2.0</td>\n",
       "      <td>2.84 %</td>\n",
       "    </tr>\n",
       "    <tr>\n",
       "      <th>2</th>\n",
       "      <td>Balakovo-2</td>\n",
       "      <td>VVER-1000</td>\n",
       "      <td>UO2</td>\n",
       "      <td>45.1 GW*d/tHMi</td>\n",
       "      <td>4.4 wt%</td>\n",
       "      <td>BAL-2|1476|42|15</td>\n",
       "      <td>Isotopic Concentration</td>\n",
       "      <td>Cm242</td>\n",
       "      <td>0.021</td>\n",
       "      <td>mg/gUi</td>\n",
       "      <td>0.021</td>\n",
       "      <td>mg/gUi</td>\n",
       "      <td>2.0</td>\n",
       "      <td>9.52 %</td>\n",
       "    </tr>\n",
       "    <tr>\n",
       "      <th>3</th>\n",
       "      <td>Balakovo-2</td>\n",
       "      <td>VVER-1000</td>\n",
       "      <td>UO2</td>\n",
       "      <td>45.1 GW*d/tHMi</td>\n",
       "      <td>4.4 wt%</td>\n",
       "      <td>BAL-2|1476|42|15</td>\n",
       "      <td>Isotopic Concentration</td>\n",
       "      <td>Cm244</td>\n",
       "      <td>0.055</td>\n",
       "      <td>mg/gUi</td>\n",
       "      <td>0.055</td>\n",
       "      <td>mg/gUi</td>\n",
       "      <td>2.0</td>\n",
       "      <td>10.91 %</td>\n",
       "    </tr>\n",
       "    <tr>\n",
       "      <th>4</th>\n",
       "      <td>Balakovo-2</td>\n",
       "      <td>VVER-1000</td>\n",
       "      <td>UO2</td>\n",
       "      <td>45.1 GW*d/tHMi</td>\n",
       "      <td>4.4 wt%</td>\n",
       "      <td>BAL-2|1476|42|15</td>\n",
       "      <td>Isotopic Concentration</td>\n",
       "      <td>Nd142</td>\n",
       "      <td>0.033</td>\n",
       "      <td>mg/gUi</td>\n",
       "      <td>0.033</td>\n",
       "      <td>mg/gUi</td>\n",
       "      <td>2.0</td>\n",
       "      <td>3.03 %</td>\n",
       "    </tr>\n",
       "  </tbody>\n",
       "</table>\n",
       "</div>"
      ],
      "text/plain": [
       "  ReactorName ReactorType Fuel type          Burnup Enrichment  \\\n",
       "0  Balakovo-2   VVER-1000       UO2  45.1 GW*d/tHMi    4.4 wt%   \n",
       "1  Balakovo-2   VVER-1000       UO2  45.1 GW*d/tHMi    4.4 wt%   \n",
       "2  Balakovo-2   VVER-1000       UO2  45.1 GW*d/tHMi    4.4 wt%   \n",
       "3  Balakovo-2   VVER-1000       UO2  45.1 GW*d/tHMi    4.4 wt%   \n",
       "4  Balakovo-2   VVER-1000       UO2  45.1 GW*d/tHMi    4.4 wt%   \n",
       "\n",
       "          SampleRef             Measurement Isotope  Value    Unit  \\\n",
       "0  BAL-2|1476|42|15  Isotopic Concentration   Am241  0.048  mg/gUi   \n",
       "1  BAL-2|1476|42|15  Isotopic Concentration   Am243  0.141  mg/gUi   \n",
       "2  BAL-2|1476|42|15  Isotopic Concentration   Cm242  0.021  mg/gUi   \n",
       "3  BAL-2|1476|42|15  Isotopic Concentration   Cm244  0.055  mg/gUi   \n",
       "4  BAL-2|1476|42|15  Isotopic Concentration   Nd142  0.033  mg/gUi   \n",
       "\n",
       "   Concentration ConcentrationUnit  Sigma Uncertainty  \n",
       "0          0.048            mg/gUi    2.0      4.17 %  \n",
       "1          0.141            mg/gUi    2.0      2.84 %  \n",
       "2          0.021            mg/gUi    2.0      9.52 %  \n",
       "3          0.055            mg/gUi    2.0     10.91 %  \n",
       "4          0.033            mg/gUi    2.0      3.03 %  "
      ]
     },
     "execution_count": 12,
     "metadata": {},
     "output_type": "execute_result"
    }
   ],
   "source": [
    "sfc.head()"
   ]
  },
  {
   "cell_type": "code",
   "execution_count": null,
   "metadata": {},
   "outputs": [],
   "source": []
  }
 ],
 "metadata": {
  "kernelspec": {
   "display_name": "Python 3",
   "language": "python",
   "name": "python3"
  },
  "language_info": {
   "codemirror_mode": {
    "name": "ipython",
    "version": 3
   },
   "file_extension": ".py",
   "mimetype": "text/x-python",
   "name": "python",
   "nbconvert_exporter": "python",
   "pygments_lexer": "ipython3",
   "version": "3.6.8"
  }
 },
 "nbformat": 4,
 "nbformat_minor": 2
}
